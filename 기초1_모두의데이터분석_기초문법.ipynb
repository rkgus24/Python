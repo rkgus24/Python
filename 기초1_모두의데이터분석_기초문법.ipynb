{
  "nbformat": 4,
  "nbformat_minor": 0,
  "metadata": {
    "colab": {
      "provenance": []
    },
    "kernelspec": {
      "name": "python3",
      "display_name": "Python 3"
    },
    "language_info": {
      "name": "python"
    }
  },
  "cells": [
    {
      "cell_type": "code",
      "execution_count": 2,
      "metadata": {
        "colab": {
          "base_uri": "https://localhost:8080/"
        },
        "id": "rqe9WwDq4v1q",
        "outputId": "2c0eeae2-ba21-49ef-af5f-17467bdaf3d4"
      },
      "outputs": [
        {
          "output_type": "stream",
          "name": "stdout",
          "text": [
            "40\n",
            "hello world\n",
            "hello world\n",
            "helloworld\n"
          ]
        }
      ],
      "source": [
        "# 출력 : print() 함수로 출력하기\n",
        "print(20*2)\n",
        "print(\"hello world\")\n",
        "print('hello', 'world') # 띄어쓰기 돼서\n",
        "print('hello'+'world') # 이어서"
      ]
    },
    {
      "cell_type": "code",
      "source": [
        "a = 'hello world'\n",
        "print(type(a))\n",
        "b = 2\n",
        "print(type(b))"
      ],
      "metadata": {
        "colab": {
          "base_uri": "https://localhost:8080/"
        },
        "id": "jpV3vFKl5nHy",
        "outputId": "e08be9ca-3181-467e-86e6-7b8bed616a5a"
      },
      "execution_count": 6,
      "outputs": [
        {
          "output_type": "stream",
          "name": "stdout",
          "text": [
            "<class 'str'>\n",
            "<class 'int'>\n"
          ]
        }
      ]
    },
    {
      "cell_type": "code",
      "source": [
        "# 입력 : input() 함수로 문자열 값 입력받기\n",
        "name = input()\n",
        "print(name+'님! 안녕하세요')\n",
        "print(name,'님! 안녕하세요')\n",
        "print(f'{name}님! 안녕하세요')\n",
        "name = '{}님! 안녕하세요'\n",
        "print(name.format('노가현'))"
      ],
      "metadata": {
        "colab": {
          "base_uri": "https://localhost:8080/"
        },
        "id": "_tqKV0Ms5zb_",
        "outputId": "9598f07c-3b30-468f-fe73-beafec19925f"
      },
      "execution_count": 10,
      "outputs": [
        {
          "output_type": "stream",
          "name": "stdout",
          "text": [
            "노가현\n",
            "노가현님! 안녕하세요\n",
            "노가현 님! 안녕하세요\n",
            "노가현님! 안녕하세요\n",
            "노가현님! 안녕하세요\n"
          ]
        }
      ]
    },
    {
      "cell_type": "code",
      "source": [
        "# 입력 : 개선\n",
        "age = int(input('나이를 입력해 주세요 : '))\n",
        "print(age - 1)"
      ],
      "metadata": {
        "colab": {
          "base_uri": "https://localhost:8080/"
        },
        "id": "w6ECC17A7ET5",
        "outputId": "0809fc43-b469-4ee0-835b-49033aec8ef9"
      },
      "execution_count": 12,
      "outputs": [
        {
          "output_type": "stream",
          "name": "stdout",
          "text": [
            "나이를 입력해 주세요 : 18\n",
            "17\n"
          ]
        }
      ]
    },
    {
      "cell_type": "code",
      "source": [
        "# 산술 연산자\n",
        "print(10 * 2) # 곱\n",
        "print(10 ** 2) # 제곱\n",
        "print(10 % 2) # 나머지\n",
        "print(7 / 2) # 나누기\n",
        "print(7 // 2) # 몫"
      ],
      "metadata": {
        "colab": {
          "base_uri": "https://localhost:8080/"
        },
        "id": "aaxLRTKq75ig",
        "outputId": "75a5e73e-1705-45a0-be46-1c4a2841f3f9"
      },
      "execution_count": 13,
      "outputs": [
        {
          "output_type": "stream",
          "name": "stdout",
          "text": [
            "20\n",
            "100\n",
            "0\n",
            "3.5\n",
            "3\n"
          ]
        }
      ]
    },
    {
      "cell_type": "code",
      "source": [
        "# 비교 연산자 (참 : True, 거짓 : False)\n",
        "print(10 >= 2)\n",
        "print(10 <= 2)\n",
        "print(10 == 2)\n",
        "print(10 != 2)\n",
        "print(10 % 2 == 1)"
      ],
      "metadata": {
        "colab": {
          "base_uri": "https://localhost:8080/"
        },
        "id": "k0qNe9LG8mkG",
        "outputId": "9fc94fe4-bb79-4bec-fe32-1d2e4bceae41"
      },
      "execution_count": 14,
      "outputs": [
        {
          "output_type": "stream",
          "name": "stdout",
          "text": [
            "True\n",
            "False\n",
            "False\n",
            "True\n",
            "False\n"
          ]
        }
      ]
    },
    {
      "cell_type": "code",
      "source": [
        "# 논리 연산자 (참 : True, 거짓 : False)\n",
        "# and (둘 다 참일 때 True), or (둘 중 하나만 참일 때 True), not (반전) 연산자\n",
        "\n",
        "# and 연산자\n",
        "print(1 == 1 and 2 != 1) # True\n",
        "print(10 % 2 != 0 and 1+1 > 0) # False\n",
        "print()\n",
        "\n",
        "# or 연산자\n",
        "print(10 < 5 or 10 == 5) # False\n",
        "print(10 % 2 != 0 or 1+1 > 0) # True\n",
        "print()\n",
        "\n",
        "# not 연산자\n",
        "print(not 10 > 5) # False\n",
        "print(not 10 == 5) # True\n",
        "print(not 0) # True\n",
        "print(not 10) # False"
      ],
      "metadata": {
        "id": "sPKJsGgW96sl"
      },
      "execution_count": null,
      "outputs": []
    },
    {
      "cell_type": "markdown",
      "source": [
        "###내장 함수 사용"
      ],
      "metadata": {
        "id": "rnJCHw15ASCA"
      }
    },
    {
      "cell_type": "code",
      "source": [
        "# random 라이브러리 사용\n",
        "import random\n",
        "dice = random.randint(1, 6)\n",
        "print(dice)"
      ],
      "metadata": {
        "colab": {
          "base_uri": "https://localhost:8080/"
        },
        "id": "59M-d3kY-5pn",
        "outputId": "c16b11c2-e0be-456b-bdf3-9ce1e99f3a95"
      },
      "execution_count": 19,
      "outputs": [
        {
          "output_type": "stream",
          "name": "stdout",
          "text": [
            "4\n"
          ]
        }
      ]
    },
    {
      "cell_type": "markdown",
      "source": [
        "###반복"
      ],
      "metadata": {
        "id": "9UuhwUOmAyHK"
      }
    },
    {
      "cell_type": "code",
      "source": [
        "# for 반복문 - 1\n",
        "name = '소마고'\n",
        "\n",
        "for i in name:\n",
        "  print(i, end='')"
      ],
      "metadata": {
        "colab": {
          "base_uri": "https://localhost:8080/"
        },
        "id": "m-9yBeLJAnqU",
        "outputId": "136dcb55-64e7-4284-d9ba-8b18af15eae6"
      },
      "execution_count": 23,
      "outputs": [
        {
          "output_type": "stream",
          "name": "stdout",
          "text": [
            "소마고"
          ]
        }
      ]
    },
    {
      "cell_type": "code",
      "source": [
        "# for 반복문 - 2\n",
        "names = ['정밀', '폴리', '산설', '메카', '로봇', '전기']\n",
        "print(type(names))\n",
        "for name in names:\n",
        "  print(name, end=' ')"
      ],
      "metadata": {
        "colab": {
          "base_uri": "https://localhost:8080/"
        },
        "id": "4QaeMa7KA80j",
        "outputId": "9c5db724-beaf-474e-e0a9-61721fb0a76f"
      },
      "execution_count": 28,
      "outputs": [
        {
          "output_type": "stream",
          "name": "stdout",
          "text": [
            "<class 'list'>\n",
            "정밀 폴리 산설 메카 로봇 전기 "
          ]
        }
      ]
    },
    {
      "cell_type": "code",
      "source": [
        "# for 반복문 - 3\n",
        "for i in [0, 1, 2, 3]:\n",
        "  print(i**2)"
      ],
      "metadata": {
        "colab": {
          "base_uri": "https://localhost:8080/"
        },
        "id": "aNQEfgokBclV",
        "outputId": "e55b5bb3-a483-4f6c-ef6a-9b1149138166"
      },
      "execution_count": 30,
      "outputs": [
        {
          "output_type": "stream",
          "name": "stdout",
          "text": [
            "0\n",
            "1\n",
            "4\n",
            "9\n"
          ]
        }
      ]
    },
    {
      "cell_type": "code",
      "source": [
        "# for 반복문 - 4\n",
        "for i in range(0,10,1):\n",
        "  print(i, end=' ')\n",
        "print()\n",
        "for j in range(10,-1,-1):\n",
        "  print(j, end=' ')\n",
        "print()\n",
        "# range(10)\n",
        "# range(0:10)\n",
        "# range(0:10:1)"
      ],
      "metadata": {
        "colab": {
          "base_uri": "https://localhost:8080/"
        },
        "id": "VQA8UY3nB6ti",
        "outputId": "2b56996e-f914-47f2-aba3-cbf63f793b4d"
      },
      "execution_count": 36,
      "outputs": [
        {
          "output_type": "stream",
          "name": "stdout",
          "text": [
            "0 1 2 3 4 5 6 7 8 9 \n",
            "10 9 8 7 6 5 4 3 2 1 0 \n"
          ]
        }
      ]
    },
    {
      "cell_type": "markdown",
      "source": [
        "### if 조건문"
      ],
      "metadata": {
        "id": "SAPEmz9uJJSv"
      }
    },
    {
      "cell_type": "code",
      "source": [
        "# 기본 예\n",
        "if True:\n",
        "  print('1')\n",
        "\n",
        "if 10<5 or 10==5:\n",
        "  print('2')"
      ],
      "metadata": {
        "colab": {
          "base_uri": "https://localhost:8080/"
        },
        "id": "DDI7yoy9CWPo",
        "outputId": "9c467fda-8a50-4b77-d1c7-3fdbc942001c"
      },
      "execution_count": 39,
      "outputs": [
        {
          "output_type": "stream",
          "name": "stdout",
          "text": [
            "1\n"
          ]
        }
      ]
    },
    {
      "cell_type": "code",
      "source": [
        "# 비밀번호 확인\n",
        "password = int(input('비밀번호 4자리를 입력하세요 : '))\n",
        "if password == 1124:\n",
        "  print('비밀번호가 일치합니다.')"
      ],
      "metadata": {
        "colab": {
          "base_uri": "https://localhost:8080/"
        },
        "id": "2C04IgflJOhv",
        "outputId": "dd8fe97e-7657-4c7a-fff0-d5a73dd22e74"
      },
      "execution_count": 41,
      "outputs": [
        {
          "output_type": "stream",
          "name": "stdout",
          "text": [
            "비밀번호 4자리를 입력하세요 : 1124\n",
            "비밀번호가 일치합니다.\n"
          ]
        }
      ]
    },
    {
      "cell_type": "code",
      "source": [
        "# 비밀번호 해킹 프로그램 (for문과 if문 사용)\n",
        "for i in range(1, 10000):\n",
        "  if i == 1124:\n",
        "    print('비밀번호가 일치합니다.')\n",
        "    print(f'비밀번호는 {i}입니다.')\n",
        "  else:\n",
        "    print('비밀번호가 일치하지 않습니다.')"
      ],
      "metadata": {
        "colab": {
          "base_uri": "https://localhost:8080/"
        },
        "id": "Aosmq60oKQOl",
        "outputId": "75ec83e5-9aec-4838-94b7-1eff8ec70ba9"
      },
      "execution_count": 42,
      "outputs": [
        {
          "output_type": "stream",
          "name": "stdout",
          "text": [
            "비밀번호가 일치합니다.\n",
            "비밀번호는 1124입니다.\n"
          ]
        }
      ]
    },
    {
      "cell_type": "code",
      "source": [
        "# 심리게임 프로그램\n",
        "print('[소름끼치도록 놀라운 심리테스트]')\n",
        "menu = input('당신이 좋아하는 음식을 입력해주세요 : ')\n",
        "\n",
        "if menu == '짜장면':\n",
        "  print('당신은 짜장면을 좋아하는 사람입니다.')\n",
        "elif menu == '아이스크림':\n",
        "  print('당신은 아이스크림을 좋아하는 사람입니다.')\n",
        "elif menu == '사탕':\n",
        "  print('당신은 사탕을 좋아하는 사람입니다.')\n",
        "else:\n",
        "  print('당신은 '+menu+'을 좋아하는 사람입니다.')\n"
      ],
      "metadata": {
        "colab": {
          "base_uri": "https://localhost:8080/"
        },
        "id": "UCJ6ZqZAKze9",
        "outputId": "b0a27500-9bbb-4cee-cb87-ca23f1c72632"
      },
      "execution_count": 45,
      "outputs": [
        {
          "output_type": "stream",
          "name": "stdout",
          "text": [
            "[소름끼치도록 놀라운 심리테스트]\n",
            "당신이 좋아하는 음식을 입력해주세요 : 배고파\n",
            "당신은 배고파을 좋아하는 사람입니다.\n"
          ]
        }
      ]
    },
    {
      "cell_type": "code",
      "source": [
        "# 점수 프로그램\n",
        "\n",
        "num = int(input('숫자')) # 1 ~ 10\n",
        "\n",
        "if num >= 9:\n",
        "  print('A')\n",
        "elif num >= 6:\n",
        "  print('B')\n",
        "elif num >= 4:\n",
        "  print('C')\n",
        "else:\n",
        "  print('D')"
      ],
      "metadata": {
        "id": "0USDMr-bN_fz"
      },
      "execution_count": null,
      "outputs": []
    }
  ]
}