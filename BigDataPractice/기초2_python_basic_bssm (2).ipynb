{
  "nbformat": 4,
  "nbformat_minor": 0,
  "metadata": {
    "colab": {
      "provenance": []
    },
    "kernelspec": {
      "name": "python3",
      "display_name": "Python 3"
    },
    "language_info": {
      "name": "python"
    }
  },
  "cells": [
    {
      "cell_type": "markdown",
      "source": [
        "###01장. 표준 입출력, 문자열 연산, 컬렉션 자료형 (리스트, 튜플, 딕셔너리)"
      ],
      "metadata": {
        "id": "xCIhjdYx7gIX"
      }
    },
    {
      "cell_type": "markdown",
      "source": [
        "###1. 표준 입출력"
      ],
      "metadata": {
        "id": "ewbHBepL7sLP"
      }
    },
    {
      "cell_type": "markdown",
      "source": [
        "- len() : 문자열 길이 구하기\n",
        "- count() : 문자의 개수 구하기\n",
        "- find() : 문자가 처음 나오는 위치 반환, 없으면 -1\n",
        "- index() : 문자열이 처음 나오는 위치 반환, 없으면 오류\n",
        "- join() : 문자열 사이에 문자 삽입, ex) '삽입문자'.join(문자열)\n",
        "- upper() : 소문자를 대문자로 변환\n",
        "- lower() : 대문자를 소문자로 변환\n",
        "- replace() : 문자열 바꾸기, ex) replace (원본, 변환 문자)\n",
        "- split() : 문자열 나누기 - 인수가 없으면 공백 (스페이스, 탭, 엔터 등 구분자)을 기준"
      ],
      "metadata": {
        "id": "NHJ96VAO8Azx"
      }
    },
    {
      "cell_type": "code",
      "execution_count": null,
      "metadata": {
        "colab": {
          "base_uri": "https://localhost:8080/"
        },
        "id": "2hZRxTz07WwN",
        "outputId": "83330d8d-0097-4938-b596-8464082910b9"
      },
      "outputs": [
        {
          "output_type": "stream",
          "name": "stdout",
          "text": [
            "12\n"
          ]
        }
      ],
      "source": [
        "# len() : 문자열 길이\n",
        "x = 'Hello Python'\n",
        "print(len(x))\n",
        "# 12"
      ]
    },
    {
      "cell_type": "code",
      "source": [
        "# count() : 문자 개수\n",
        "x = 'Hello Python'\n",
        "print(x.count('o'))\n",
        "# 2"
      ],
      "metadata": {
        "colab": {
          "base_uri": "https://localhost:8080/"
        },
        "id": "pInzZMqr9emE",
        "outputId": "0d7d60c2-121f-4494-c1ef-820bbdc935b9"
      },
      "execution_count": null,
      "outputs": [
        {
          "output_type": "stream",
          "name": "stdout",
          "text": [
            "2\n"
          ]
        }
      ]
    },
    {
      "cell_type": "code",
      "source": [
        "# find() : 문자 첫 위치 반환\n",
        "x = 'Hello Python' # 7\n",
        "print(x.find('y'))\n",
        "# print(x.find('x')) -1 "
      ],
      "metadata": {
        "colab": {
          "base_uri": "https://localhost:8080/"
        },
        "id": "wkclge6G-HEb",
        "outputId": "06c2b05e-e49d-4d36-f82b-4616264d2a6b"
      },
      "execution_count": null,
      "outputs": [
        {
          "output_type": "stream",
          "name": "stdout",
          "text": [
            "7\n"
          ]
        }
      ]
    },
    {
      "cell_type": "code",
      "source": [
        "# index() : 문자열의 첫 위치 반환\n",
        "x = 'Hello Python'\n",
        "print(x.index('H')) # 0"
      ],
      "metadata": {
        "colab": {
          "base_uri": "https://localhost:8080/"
        },
        "id": "C35qSD2k-c5K",
        "outputId": "0f0c2bd8-293f-4c79-ef70-71acea7275cb"
      },
      "execution_count": null,
      "outputs": [
        {
          "output_type": "stream",
          "name": "stdout",
          "text": [
            "0\n"
          ]
        }
      ]
    },
    {
      "cell_type": "code",
      "source": [
        "# join() : 문자열 사이 문자 삽입\n",
        "x = 'Hello Python'\n",
        "z = '-'.join(x)\n",
        "print(z)\n",
        "# H-e-l-l-o- -P-y-t-h-o-n"
      ],
      "metadata": {
        "colab": {
          "base_uri": "https://localhost:8080/"
        },
        "id": "g9sYRy9U-5Pe",
        "outputId": "41a36bbf-ff5d-4602-e612-47c77f1f0947"
      },
      "execution_count": null,
      "outputs": [
        {
          "output_type": "stream",
          "name": "stdout",
          "text": [
            "H-e-l-l-o- -P-y-t-h-o-n\n"
          ]
        }
      ]
    },
    {
      "cell_type": "code",
      "source": [
        "# upper() : 소문자를 대문자로\n",
        "x = 'hello python'\n",
        "print(x.upper())\n",
        "# HELLO PYTHON"
      ],
      "metadata": {
        "colab": {
          "base_uri": "https://localhost:8080/"
        },
        "id": "FWsdPeu0_CkN",
        "outputId": "9dcc1dcb-8672-41b7-cac4-5d922b6de61d"
      },
      "execution_count": null,
      "outputs": [
        {
          "output_type": "stream",
          "name": "stdout",
          "text": [
            "HELLO PYTHON\n"
          ]
        }
      ]
    },
    {
      "cell_type": "code",
      "source": [
        "# lower() : 대문자를 소문자로\n",
        "x = 'HELLO PYTHON'\n",
        "print(x.lower())\n",
        "# hello python"
      ],
      "metadata": {
        "colab": {
          "base_uri": "https://localhost:8080/"
        },
        "id": "cO6dg3_0_ntn",
        "outputId": "f1551f3b-1db1-441c-f966-9ad092ffa83f"
      },
      "execution_count": null,
      "outputs": [
        {
          "output_type": "stream",
          "name": "stdout",
          "text": [
            "hello python\n"
          ]
        }
      ]
    },
    {
      "cell_type": "code",
      "source": [
        "# replace() : 문자열 바꾸기\n",
        "x = 'Hello Python'\n",
        "print(x.replace('P',\"&\"))\n",
        "# Hello &ython"
      ],
      "metadata": {
        "colab": {
          "base_uri": "https://localhost:8080/"
        },
        "id": "WuCHPmQk_wFY",
        "outputId": "712f9dd7-41ee-46cd-c22f-01d172956055"
      },
      "execution_count": null,
      "outputs": [
        {
          "output_type": "stream",
          "name": "stdout",
          "text": [
            "Hello &ython\n"
          ]
        }
      ]
    },
    {
      "cell_type": "code",
      "source": [
        "# split() : 문자열 나누기\n",
        "x = 'Hello Python'\n",
        "print(x.split(' '))\n",
        "# ['Hello', 'Python']"
      ],
      "metadata": {
        "colab": {
          "base_uri": "https://localhost:8080/"
        },
        "id": "600mWTykAAo2",
        "outputId": "677c7fbe-6725-4535-ec70-f30983292282"
      },
      "execution_count": null,
      "outputs": [
        {
          "output_type": "stream",
          "name": "stdout",
          "text": [
            "['Hello', 'Python']\n"
          ]
        }
      ]
    },
    {
      "cell_type": "markdown",
      "source": [
        "###1) 해결 문제\n",
        "- 몇 개의 문장으로 구성되어 있는지 출력하시오\n",
        "- 찾고자 하는 단어를 입력 받아서 해당 단어가 몇 번 언급 되었는지 확인하시오"
      ],
      "metadata": {
        "id": "QPtEgWgqAtL0"
      }
    },
    {
      "cell_type": "code",
      "source": [
        "# 코로나 어원\n",
        "\n",
        "corona = '''\n",
        "코로나(corona)는 라틴말로 왕관을 뜻하며 통상 태양을 둘러싼 외곽의 빛(광환)을 지칭한다.\n",
        "코로나 바이러스라는 이름은 전자현미경으로 이 바이러스를 관찰했을 때 마치 코로나와 유사한 모양을 띠어 붙여진 이름이다.\n",
        "이번에 중국의 우환에서 시작된 코로나 바이러스는 2019년애 발견된 새로운 코로나 바이러스라는 뜻으로 2019-nCov로 붙여졌다.\n",
        "nCov는 novel(새로운) Cov(코로나 바이러스)라는 뜻이다.\n",
        "'''"
      ],
      "metadata": {
        "id": "t4XF-8LuAeiL"
      },
      "execution_count": null,
      "outputs": []
    },
    {
      "cell_type": "code",
      "source": [
        "print(corona.count('.'))\n",
        "num1 = input()\n",
        "find = corona.count(num1)\n",
        "print(find)"
      ],
      "metadata": {
        "colab": {
          "base_uri": "https://localhost:8080/"
        },
        "id": "w0i_5RgvDwz3",
        "outputId": "a1b7a3ac-df09-4e6f-e161-66e07bfb126b"
      },
      "execution_count": null,
      "outputs": [
        {
          "output_type": "stream",
          "name": "stdout",
          "text": [
            "4\n",
            "코로나\n",
            "6\n"
          ]
        }
      ]
    },
    {
      "cell_type": "code",
      "source": [
        "index_list = [] # 인덱스 위치값을 담을 리스트\n",
        "index = 0 # 인덱스 위치 값 \n",
        "\n",
        "while index > -1 :  # index가 -1일때까지 반복\n",
        "\tindex = corona.find(\"코로나\", index) # 문자열에서 python 찾음 index 시작\n",
        "\tif index > -1: # index가 -1이 아니면 (코로나를 찾으면)\n",
        "\t\tindex_list.append(index) # 해당 인덱스를 리스트에 담기\n",
        "\t\tindex = index+1 # 해당 인덱스에서 1을 추가하여 다시 find 반복문 실행 \n",
        "\n",
        "print(corona.count('.'))\n",
        "print(index_list)\n",
        "print(len(index_list))"
      ],
      "metadata": {
        "colab": {
          "base_uri": "https://localhost:8080/"
        },
        "id": "6VvqoSoDBcGe",
        "outputId": "63e683e2-7e55-4897-c8b5-2bef4eae4dc8"
      },
      "execution_count": null,
      "outputs": [
        {
          "output_type": "stream",
          "name": "stdout",
          "text": [
            "4\n",
            "[1, 55, 96, 139, 164, 217]\n",
            "6\n"
          ]
        }
      ]
    },
    {
      "cell_type": "markdown",
      "source": [
        "###3. 컬렉션 자료형\n",
        "- 리스트, 튜플, 딕셔너리, 집합\n",
        "- 여러 요소를 묶어서 처리할 수 있는 자료형\n",
        "- 각 요소에 접근하는 방법 제공"
      ],
      "metadata": {
        "id": "ESazua9rF1cg"
      }
    },
    {
      "cell_type": "markdown",
      "source": [
        "###1. 리스트\n",
        "- 리스트 생성 : [ ]또는 리스트 함수 이용\n",
        "- 인덱싱\n",
        "  * 요소의 선택은 0부터 시작되는 인덱스로 접근\n",
        "  * 리스트명[인덱스]\n",
        "- 슬라이싱\n",
        "  * 요소의 일부분 선택\n",
        "  * 리스트명[시작인덱스:종료인덱스]\n",
        "  * 종료 인덱스는 포함되지 않음\n",
        "- 연산\n",
        "  * +연산 : 리스트와 리스트 연결\n",
        "  * - 연산 : 리스트 요소 반복\n",
        "- 추가\n",
        "  * 리스트명.append(추가요소) : 마지막에 추가\n",
        "  * 리스트명.insert(인덱스, 추가요소) : 해당 인덱스에 요소 추가\n",
        "- 삭제\n",
        "  * 리스트명.pop() : 마지막 요소 삭제\n",
        "  * 리스트명.pop(인덱스) : 해당 인덱스 요소 삭제\n",
        "  * 리스트명.remove(요소값) : 해당 요소 값 삭제, 해당 값이 없으면 오류\n",
        "- 수정\n",
        "  * 리스트명[인덱스] = 변경값\n",
        "- 위치 반환\n",
        "  * 리스트명.index(요소값)\n",
        "  * 해당 요소값의 위치를 반환\n",
        "  * 여러 개 요소가 존재하면 첫 번째 위치 반환하고 없으면 오류\n",
        "- 요소 개수 구하기\n",
        "  * 리스트명.count(요소값)\n",
        "- 정렬\n",
        "  * 리스트명.sort() : 오름차순\n",
        "  * 리스트명.sort(reverse=True) 내림차순\n",
        "- 뒤집기\n",
        "  * 리스트명.reverse() : 요소를 역순으로 뒤집어 줌\n"
      ],
      "metadata": {
        "id": "caaVBEa-GBpt"
      }
    },
    {
      "cell_type": "code",
      "source": [
        "# 리스트 생성 : [] or list()\n",
        "my_list=[]\n",
        "print(type(my_list))\n",
        "\n",
        "my_list2 = list()\n",
        "print(type(my_list2))\n",
        "\n",
        "my_list3 = [10,20,30]\n",
        "print(type(my_list3))\n",
        "print(my_list3)"
      ],
      "metadata": {
        "colab": {
          "base_uri": "https://localhost:8080/"
        },
        "id": "vkiEh9BOGAhj",
        "outputId": "7e7a3f14-af84-4dc4-fbd7-1b9613c4666d"
      },
      "execution_count": null,
      "outputs": [
        {
          "output_type": "stream",
          "name": "stdout",
          "text": [
            "<class 'list'>\n",
            "<class 'list'>\n",
            "<class 'list'>\n",
            "[10, 20, 30]\n"
          ]
        }
      ]
    },
    {
      "cell_type": "code",
      "source": [
        "# 인덱싱 : 요소는 인덱스로 접근(0부터 사용)\n",
        "my_list=[10, 20, 30]\n",
        "print(my_list[0])\n",
        "print(my_list[1])\n",
        "print(my_list[2])\n",
        "print(my_list[-1])"
      ],
      "metadata": {
        "colab": {
          "base_uri": "https://localhost:8080/"
        },
        "id": "5WVuEufmLpz2",
        "outputId": "8e5e57f5-8d55-43b0-96ec-3faa2d994237"
      },
      "execution_count": null,
      "outputs": [
        {
          "output_type": "stream",
          "name": "stdout",
          "text": [
            "10\n",
            "20\n",
            "30\n",
            "30\n"
          ]
        }
      ]
    },
    {
      "cell_type": "code",
      "source": [
        "# 슬라이싱 : 요소의 일부분 선택\n",
        "my_list=[10, 20, 30, 40, 50, 60, 70, 80, 90]\n",
        "print(my_list[::])\n",
        "print(my_list[0:len(my_list):1])\n",
        "print(my_list[:2:-1])\n",
        "print(my_list[-1::-1]) # 역순\n",
        "print(my_list[1::2])   # 짝수\n",
        "print(my_list[0::2])   # 홀수"
      ],
      "metadata": {
        "colab": {
          "base_uri": "https://localhost:8080/"
        },
        "id": "N6HSMQTeMB8G",
        "outputId": "5679bb61-46d7-4e45-d528-1ba94016a999"
      },
      "execution_count": null,
      "outputs": [
        {
          "output_type": "stream",
          "name": "stdout",
          "text": [
            "[10, 20, 30, 40, 50, 60, 70, 80, 90]\n",
            "[10, 20, 30, 40, 50, 60, 70, 80, 90]\n",
            "[90, 80, 70, 60, 50, 40]\n",
            "[90, 80, 70, 60, 50, 40, 30, 20, 10]\n",
            "[20, 40, 60, 80]\n",
            "[10, 30, 50, 70, 90]\n"
          ]
        }
      ]
    },
    {
      "cell_type": "code",
      "source": [
        "# 리스트의 연산\n",
        "a = 1+2\n",
        "print(a)\n",
        "my_list1 = [10, 20]\n",
        "my_list2 = [100, 200]\n",
        "my_list3 = my_list1 + my_list2\n",
        "print(my_list3)\n",
        "print(my_list1 * 3)"
      ],
      "metadata": {
        "colab": {
          "base_uri": "https://localhost:8080/"
        },
        "id": "GJbN67JIOl28",
        "outputId": "0881c548-1daf-45de-c92b-5a96f810d9f6"
      },
      "execution_count": null,
      "outputs": [
        {
          "output_type": "stream",
          "name": "stdout",
          "text": [
            "3\n",
            "[10, 20, 100, 200]\n",
            "[10, 20, 10, 20, 10, 20]\n"
          ]
        }
      ]
    },
    {
      "cell_type": "code",
      "source": [
        "# 리스트의 추가\n",
        "# 리스트명.append(추가요소) : 마지막에 추가\n",
        "# 리스트명.insert(인덱스, 추가요소) : 해당 인덱스에 요소 추가\n",
        "\n",
        "my_list = ['a', 'b', 'c']\n",
        "my_list.append('d')\n",
        "print(my_list)\n",
        "\n",
        "my_list.insert(0, 'z')\n",
        "my_list.insert(7, 'q')\n",
        "print(my_list)"
      ],
      "metadata": {
        "colab": {
          "base_uri": "https://localhost:8080/"
        },
        "id": "PHgXOq72O9q-",
        "outputId": "3367f9b4-1fe3-4b27-f52b-eacd0b88faa4"
      },
      "execution_count": null,
      "outputs": [
        {
          "output_type": "stream",
          "name": "stdout",
          "text": [
            "['a', 'b', 'c', 'd']\n",
            "['z', 'a', 'b', 'c', 'd', 'q']\n"
          ]
        }
      ]
    },
    {
      "cell_type": "code",
      "source": [
        "# 리스트의 삭제\n",
        "# 리스트명.pop() : 마지막 요소 삭제\n",
        "# 리스트명.pop(인덱스) : 해당 인덱스 요소 삭제\n",
        "# 리스트명.remove(요소값) : 해당 요소값 삭제, 해당 값이 없으면 오류\n",
        "my_list=['a', 'b', 'c']; print(my_list);\n",
        "my_list.pop(); print(my_list);\n",
        "my_list.pop(0); print(my_list);\n",
        "my_list.remove('b'); print(my_list);"
      ],
      "metadata": {
        "colab": {
          "base_uri": "https://localhost:8080/"
        },
        "id": "W3deNPtrPzd9",
        "outputId": "522216bc-bbd8-4bb7-d07a-69e28d18c55b"
      },
      "execution_count": null,
      "outputs": [
        {
          "output_type": "stream",
          "name": "stdout",
          "text": [
            "['a', 'b', 'c']\n",
            "['a', 'b']\n",
            "['b']\n",
            "[]\n"
          ]
        }
      ]
    },
    {
      "cell_type": "code",
      "source": [
        "# 리스트 수정\n",
        "# 리스트명[인덱스] = 변경값\n",
        "my_list=['a', 'b', 'c']\n",
        "my_list[0] = 'e'\n",
        "\n",
        "my_list[my_list.index('b')]='bb'\n",
        "\n",
        "print(my_list)"
      ],
      "metadata": {
        "colab": {
          "base_uri": "https://localhost:8080/"
        },
        "id": "XUXeNyzvRZAp",
        "outputId": "7bbb15d8-8b24-422e-f289-101984c476f9"
      },
      "execution_count": null,
      "outputs": [
        {
          "output_type": "stream",
          "name": "stdout",
          "text": [
            "['e', 'bb', 'c']\n"
          ]
        }
      ]
    },
    {
      "cell_type": "code",
      "source": [
        "# 리스트 위치 반환\n",
        "# 리스트명.index(요소값) : 해당 요소값의 위치를 반환, 없으면 오류"
      ],
      "metadata": {
        "id": "foKj1WUsRiCW"
      },
      "execution_count": null,
      "outputs": []
    },
    {
      "cell_type": "code",
      "source": [
        "# 리스트 요소 개수 구하기\n",
        "# 리스트명.count(요소값)\n",
        "my_list=['a', 'b', 'c', 'a', 'd']\n",
        "print(my_list.count('a'))"
      ],
      "metadata": {
        "colab": {
          "base_uri": "https://localhost:8080/"
        },
        "id": "M39IrbMISWdK",
        "outputId": "76f54642-0558-4b0b-8c3a-6afeda4bc0d0"
      },
      "execution_count": null,
      "outputs": [
        {
          "output_type": "stream",
          "name": "stdout",
          "text": [
            "2\n"
          ]
        }
      ]
    },
    {
      "cell_type": "code",
      "source": [
        "# 리스트 정렬\n",
        "# 리스트명.sort() : 오름차순\n",
        "# 리스트명.sort(reverse=True) : 내림차순\n",
        "\n",
        "my_list=['c', 'a', 'b']\n",
        "\n",
        "my_list.sort()\n",
        "print(my_list) # 오름차순\n",
        "\n",
        "my_list.sort(reverse=True)\n",
        "print(my_list) # 내림차순"
      ],
      "metadata": {
        "colab": {
          "base_uri": "https://localhost:8080/"
        },
        "id": "GFwF3YJKSiKC",
        "outputId": "3ab48a20-feb0-4b05-9c73-2ae6b1ca23df"
      },
      "execution_count": null,
      "outputs": [
        {
          "output_type": "stream",
          "name": "stdout",
          "text": [
            "['a', 'b', 'c']\n",
            "['c', 'b', 'a']\n"
          ]
        }
      ]
    },
    {
      "cell_type": "code",
      "source": [
        "# 리스트 뒤집기\n",
        "# 리스트명.reverse() : 요소를 역순으로 뒤집어 줌\n",
        "my_list=['c', 'a', 'b']\n",
        "my_list.reverse()\n",
        "print(my_list) # 역순\n",
        "print(my_list[-1::-1]) # 역순"
      ],
      "metadata": {
        "colab": {
          "base_uri": "https://localhost:8080/"
        },
        "id": "FhA4rppPS592",
        "outputId": "1638cc9c-54f8-4038-fbab-73fe3f095d08"
      },
      "execution_count": null,
      "outputs": [
        {
          "output_type": "stream",
          "name": "stdout",
          "text": [
            "['b', 'a', 'c']\n",
            "['c', 'a', 'b']\n"
          ]
        }
      ]
    },
    {
      "cell_type": "code",
      "source": [],
      "metadata": {
        "id": "uDs1A9GlTkqT"
      },
      "execution_count": null,
      "outputs": []
    }
  ]
}