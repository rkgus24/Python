{
  "nbformat": 4,
  "nbformat_minor": 0,
  "metadata": {
    "colab": {
      "provenance": []
    },
    "kernelspec": {
      "name": "python3",
      "display_name": "Python 3"
    },
    "language_info": {
      "name": "python"
    }
  },
  "cells": [
    {
      "cell_type": "markdown",
      "source": [
        "###컬렉션 데이터 활용\n",
        "- 컬렉션 데이터 모든 요소 접근\n",
        "- for 요소변수 in 컬렉션명:\n",
        "-  zip() 함수 : 동일한 개수로 이루어진 자료형을 묶어 주는 역할을 하는 함수"
      ],
      "metadata": {
        "id": "0uCWB3xkCQxI"
      }
    },
    {
      "cell_type": "code",
      "execution_count": null,
      "metadata": {
        "colab": {
          "base_uri": "https://localhost:8080/"
        },
        "id": "7xl02VLzBlr8",
        "outputId": "4733fe9d-b8ca-436f-814c-dfbedb9bbcaf"
      },
      "outputs": [
        {
          "output_type": "stream",
          "name": "stdout",
          "text": [
            "10 50 30 \n",
            "a b c "
          ]
        }
      ],
      "source": [
        "# 컬렉션 요소 접근\n",
        "lst = [10, 50, 30]\n",
        "tp = ('a', 'b', 'c')\n",
        "\n",
        "for item in lst:\n",
        "  print(item, end=' ')\n",
        "print()\n",
        "for item in tp:\n",
        "  print(item, end=' ')"
      ]
    },
    {
      "cell_type": "code",
      "source": [
        "# 딕셔너리 만들기 : dict() 함수와 zip()함수 이용\n",
        "dt = dict(zip(tp, lst))\n",
        "print(dt)\n",
        "for item in dt:\n",
        "  print(f'{item}:{dt[item]}')"
      ],
      "metadata": {
        "colab": {
          "base_uri": "https://localhost:8080/"
        },
        "id": "wmbyYgMaCuTP",
        "outputId": "dfb2ebdc-a0c9-4626-fba0-7502694ab4a7"
      },
      "execution_count": null,
      "outputs": [
        {
          "output_type": "stream",
          "name": "stdout",
          "text": [
            "{'a': 10, 'b': 50, 'c': 30}\n",
            "a:10\n",
            "b:50\n",
            "c:30\n"
          ]
        }
      ]
    },
    {
      "cell_type": "markdown",
      "source": [
        "### 내장함수\n",
        "- len(컬렉션명) : 컬렉션 요소 개수\n",
        "- max(컬렉션명) : 가장 큰 요소값 반환\n",
        "  - 딕셔너리인 경우는 키 값 중 가장 큰 요소 반환\n",
        "- min(컬렉션명) : 가장 작은 요소값 반환\n",
        "  - 딕셔너리인 경우는 키 값 중 가장 작은 요소 반환\n",
        "- sum(컬렉션명) : 수치 요소로 이루어진 컬렉션 요소의 합\n",
        "  - 딕셔너리인 경우는 키 값의 합\n",
        "- sorted(컬렉션명) : 컬렉션 요소 정렬\n",
        "  - 딕셔너리인 경우는 키 값을 정렬하여 키 리스트 반환"
      ],
      "metadata": {
        "id": "6Gv2Ne0KDaf1"
      }
    },
    {
      "cell_type": "code",
      "source": [
        "# 내장함수\n",
        "\n",
        "lst = [10, 50, 30]\n",
        "print(len(lst)) # 요소개수\n",
        "print(max(lst)) # 최대값\n",
        "print(min(lst)) # 최소값\n",
        "print(sum(lst)) # 합계\n",
        "print(sorted(lst)) # 정렬\n",
        "print(lst)\n",
        "\n",
        "lst.sort()\n",
        "print(lst)"
      ],
      "metadata": {
        "colab": {
          "base_uri": "https://localhost:8080/"
        },
        "id": "om5xwJSXDRB1",
        "outputId": "21e66149-a88b-402d-f3fc-09a98a87f5d2"
      },
      "execution_count": null,
      "outputs": [
        {
          "output_type": "stream",
          "name": "stdout",
          "text": [
            "3\n",
            "50\n",
            "10\n",
            "90\n",
            "[10, 30, 50]\n",
            "[10, 50, 30]\n",
            "[10, 30, 50]\n"
          ]
        }
      ]
    },
    {
      "cell_type": "markdown",
      "source": [
        "###해결문제"
      ],
      "metadata": {
        "id": "7V_s8-sWFdCc"
      }
    },
    {
      "cell_type": "code",
      "source": [
        "# 해결문제 1\n",
        "\n",
        "# 기상청에서 제공하는 2020년 3월 1일에서 3월 31일까지의 평균기온 정보를 참고하여 다음을 구하시오\n",
        "# - 최고 기온인 날\n",
        "# - 최저 기온인 날\n",
        "# - 3월 평균 기온\n",
        "\n",
        "# 부산 3월 기온\n",
        "temp = [10.8, 8.5, 8.7, 7.9, 5.1,\n",
        "        8.1, 8.2, 10.4, 11, 9.9,\n",
        "        7.8, 9.5, 11.6, 8.2, 7.7,\n",
        "        6.6, 11.1, 12.2, 12.6, 10.4,\n",
        "        13.7, 14.1, 12.6, 11.5, 13,\n",
        "        14.5, 13.7, 9.4, 10.4, 11.6, 12.9]\n",
        "\n",
        "print(max(temp))\n",
        "print(min(temp))\n",
        "a_temp = sum(temp) / len(temp)\n",
        "print(a_temp)"
      ],
      "metadata": {
        "colab": {
          "base_uri": "https://localhost:8080/"
        },
        "id": "2_zgO7MFFcP1",
        "outputId": "a3d7660e-252d-45d5-e13d-032a40256ae7"
      },
      "execution_count": null,
      "outputs": [
        {
          "output_type": "stream",
          "name": "stdout",
          "text": [
            "14.5\n",
            "5.1\n",
            "10.441935483870964\n"
          ]
        }
      ]
    },
    {
      "cell_type": "code",
      "source": [
        "# 해결문제 2\n",
        "\n",
        "# 다음은 2010 ~ 2019년 기온 데이터 (년도, 평균, 최소, 최대)이다.\n",
        "# - 홀수년도만 출력\n",
        "# - 년도 출력하기\n",
        "# - 년도와 평균 기온 딕셔너리 만들기\n",
        "# - 평균기온이 최소일 때 해당년도 추출하기 ex) 2012년 - 14.5도\n",
        "# - 최고기온이 최대일 때 해당년도 추출하기 ex) 2016년 - 19.6도\n",
        "# - 최고기온이 최소일 때 해당년도 추출하기 ex) 2012년 - 18.6도\n",
        "\n",
        "y = [2010, 2011, 2012, 2013, 2014, 2015, 2016, 2017, 2018, 2019]\n",
        "yavg = [14.9, 14.6, 14.5, 15.3, 15.1, 15.4, 15.7, 15.2, 15.1, 15.7]\n",
        "ymax = [34.1, 33, 34.5, 35, 32.9, 33.5, 37.3, 36.2, 36.4, 35]\n",
        "ymin = [19, 18.8, 18.6, 19.5, 19.2, 19.5, 19.8, 19.6, 19.2, 19.8]\n",
        "\n",
        "# - 홀수년도만 출력\n",
        "odd_years = [year for year in y if year % 2 == 1]\n",
        "print(odd_years)\n",
        "print(\" \")\n",
        "\n",
        "# - 년도 출력하기\n",
        "for year in y:\n",
        "    print(year)\n",
        "print(\" \")\n",
        "\n",
        "# - 년도와 평균 기온 딕셔너리 만들기\n",
        "year_avg_dict = dict(zip(y, yavg))\n",
        "print(year_avg_dict)\n",
        "print(\" \")\n",
        "\n",
        "# - 평균기온이 최소일 때 해당년도 추출하기\n",
        "min_avg = min(yavg)\n",
        "min_avg_year = y[yavg.index(min_avg)]\n",
        "print(f\"{min_avg_year}년 - {min_avg}도\")\n",
        "print(\" \")\n",
        "\n",
        "# - 최고기온이 최대일 때 해당년도 추출하기\n",
        "max_temp = max(ymax)\n",
        "max_temp_year = y[ymax.index(max_temp)]\n",
        "print(f\"{max_temp_year}년 - {max_temp}도\")\n",
        "print(\" \")\n",
        "\n",
        "# - 최고기온이 최소일 때 해당년도 추출하기\n",
        "min_max_temp = min(ymax)\n",
        "min_max_temp_year = y[ymax.index(min_max_temp)]\n",
        "print(f\"{min_max_temp_year}년 - {min_max_temp_year}도\")"
      ],
      "metadata": {
        "colab": {
          "base_uri": "https://localhost:8080/"
        },
        "id": "v9YbBFNCH_Fy",
        "outputId": "0e748d68-5a8a-4380-fd35-2447e5bbaef1"
      },
      "execution_count": null,
      "outputs": [
        {
          "output_type": "stream",
          "name": "stdout",
          "text": [
            "[2011, 2013, 2015, 2017, 2019]\n",
            " \n",
            "2010\n",
            "2011\n",
            "2012\n",
            "2013\n",
            "2014\n",
            "2015\n",
            "2016\n",
            "2017\n",
            "2018\n",
            "2019\n",
            " \n",
            "{2010: 14.9, 2011: 14.6, 2012: 14.5, 2013: 15.3, 2014: 15.1, 2015: 15.4, 2016: 15.7, 2017: 15.2, 2018: 15.1, 2019: 15.7}\n",
            " \n",
            "2012년 - 14.5도\n",
            " \n",
            "2016년 - 37.3도\n",
            " \n",
            "2014년 - 2014도\n"
          ]
        }
      ]
    },
    {
      "cell_type": "code",
      "source": [],
      "metadata": {
        "id": "xuukP0YWKY87"
      },
      "execution_count": null,
      "outputs": []
    }
  ]
}